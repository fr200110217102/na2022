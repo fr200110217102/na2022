{
 "cells": [
  {
   "cell_type": "code",
   "execution_count": 4,
   "id": "32d6589c",
   "metadata": {},
   "outputs": [
    {
     "name": "stdout",
     "output_type": "stream",
     "text": [
      "0.01666666666666667\n"
     ]
    }
   ],
   "source": [
    "import numpy as np\n",
    "import math\n",
    "\n",
    "g = math.sqrt(6)\n",
    "A = np.array([[(88-7*g)/360, (296-169*g)/1800, (-2+3*g)/225], [(296+169*g)/1800, (88+7*g)/360, (-2-3*g)/225], [(16-g)/36, (16+g)/36, 1/9]])\n",
    "print(np.linalg.det(A))"
   ]
  },
  {
   "cell_type": "code",
   "execution_count": null,
   "id": "ba64e34b",
   "metadata": {},
   "outputs": [],
   "source": []
  }
 ],
 "metadata": {
  "kernelspec": {
   "display_name": "Python 3 (ipykernel)",
   "language": "python",
   "name": "python3"
  },
  "language_info": {
   "codemirror_mode": {
    "name": "ipython",
    "version": 3
   },
   "file_extension": ".py",
   "mimetype": "text/x-python",
   "name": "python",
   "nbconvert_exporter": "python",
   "pygments_lexer": "ipython3",
   "version": "3.10.2"
  }
 },
 "nbformat": 4,
 "nbformat_minor": 5
}
